{
 "cells": [
  {
   "cell_type": "code",
   "execution_count": 15,
   "metadata": {},
   "outputs": [],
   "source": [
    "import numpy as np"
   ]
  },
  {
   "cell_type": "markdown",
   "metadata": {},
   "source": [
    "<span style=\"color:blue; font-size:1.0em;\">Q 1. You survey households in your area to find the average rent they are paying. Find the\n",
    "standard deviation from the following data:\n",
    "$1550, $1700, $900, $850, $1000, $950.</span>"
   ]
  },
  {
   "cell_type": "code",
   "execution_count": 16,
   "metadata": {},
   "outputs": [],
   "source": [
    "rent = np.array([1550, 1700, 900, 850, 1000, 950])"
   ]
  },
  {
   "cell_type": "code",
   "execution_count": 17,
   "metadata": {},
   "outputs": [
    {
     "name": "stdout",
     "output_type": "stream",
     "text": [
      "The variance is 135416.6666666667\n"
     ]
    }
   ],
   "source": [
    "def Calvariance(arr):\n",
    "    mean = sum(arr)/len(arr)\n",
    "    variance = sum((x - mean) ** 2 for x in arr) / (len(arr) - 1)\n",
    "    return variance\n",
    "var = Calvariance(rent)\n",
    "print(\"The variance is\",var)"
   ]
  },
  {
   "cell_type": "code",
   "execution_count": 18,
   "metadata": {},
   "outputs": [
    {
     "name": "stdout",
     "output_type": "stream",
     "text": [
      "The std deviation is 367.99003609699366\n"
     ]
    }
   ],
   "source": [
    "from math import sqrt\n",
    "def Calstddv(arr):\n",
    "    variance = Calvariance(arr)\n",
    "    return sqrt(variance)\n",
    "\n",
    "stddv = Calstddv(rent)\n",
    "print(\"The std deviation is\", stddv)"
   ]
  },
  {
   "cell_type": "markdown",
   "metadata": {},
   "source": [
    "<span style=\"color:blue; font-size:1.0em;\">Q 2. Find the variance for the following set of data representing trees in California (heights in\n",
    "feet):\n",
    "3, 21, 98, 203, 17, 9</span>"
   ]
  },
  {
   "cell_type": "code",
   "execution_count": 19,
   "metadata": {},
   "outputs": [],
   "source": [
    "heights = np.array([3,21,98,203,17,9])"
   ]
  },
  {
   "cell_type": "code",
   "execution_count": 20,
   "metadata": {},
   "outputs": [
    {
     "name": "stdout",
     "output_type": "stream",
     "text": [
      "The variance is 6219.9\n"
     ]
    }
   ],
   "source": [
    "var = Calvariance(heights)\n",
    "print(\"The variance is\",var)"
   ]
  },
  {
   "cell_type": "markdown",
   "metadata": {},
   "source": [
    "<span style=\"color:blue; font-size:1.0em;\">Q 3. In a class on 100 students, 80 students passed in all subjects, 10 failed in one subject, 7 failed\n",
    "in two subjects and 3 failed in three subjects. Find the probability distribution of the variable for\n",
    "number of subjects a student from the given class has failed in.</span>"
   ]
  },
  {
   "cell_type": "code",
   "execution_count": 21,
   "metadata": {},
   "outputs": [
    {
     "name": "stdout",
     "output_type": "stream",
     "text": [
      "Probability of failing in zero subjects p[X=0]= 0.8\n",
      "Probability of failing in 1 subject p[X=1]= 0.1\n",
      "Probability of failing in 2 subjects p[X=2]= 0.07\n",
      "Probability of failing in 3 subjects p[X=3]= 0.03\n"
     ]
    }
   ],
   "source": [
    "import numpy as np\n",
    "X=np.array([0,1,2,3])\n",
    "no_of_times_X=np.array([80,10,7,3])\n",
    "total_students=100\n",
    "\n",
    "prob_of_X_equalto_0 =no_of_times_X[0]/total_students\n",
    "prob_of_X_equalto_1 =no_of_times_X[1]/total_students\n",
    "prob_of_X_equalto_2 =no_of_times_X[2]/total_students\n",
    "prob_of_X_equalto_3 =no_of_times_X[3]/total_students\n",
    "\n",
    "print(\"Probability of failing in zero subjects p[X=0]=\",prob_of_X_equalto_0)\n",
    "print(\"Probability of failing in 1 subject p[X=1]=\",prob_of_X_equalto_1)\n",
    "print(\"Probability of failing in 2 subjects p[X=2]=\",prob_of_X_equalto_2)\n",
    "print(\"Probability of failing in 3 subjects p[X=3]=\",prob_of_X_equalto_3)"
   ]
  },
  {
   "cell_type": "markdown",
   "metadata": {},
   "source": [
    "<span style=\"color:blue; font-size:1.0em;\">Task 2:</span>\n",
    "\n",
    "<span style=\"color:blue; font-size:1.0em;\">Q 1. A test is conducted which is consisting of 20 MCQs (multiple choices questions) with every MCQ having its four options out of which only one is correct. Determine the probability that a person undertaking that test has answered exactly 5 questions wrong.</span>"
   ]
  },
  {
   "cell_type": "code",
   "execution_count": 22,
   "metadata": {},
   "outputs": [],
   "source": [
    "from scipy.special import comb"
   ]
  },
  {
   "cell_type": "code",
   "execution_count": 23,
   "metadata": {},
   "outputs": [
    {
     "name": "stdout",
     "output_type": "stream",
     "text": [
      "Probability of exactly 5 wrong out of 20 questions is  3.4264958230778575e-06\n"
     ]
    }
   ],
   "source": [
    "#Binomial distribution\n",
    "    #The probability of doing 1 question wrong p = 3/4\n",
    "    #The probability of doing 1 question right q = 1 - p = 1/4\n",
    "    #Total questions n = 20\n",
    "    # exact wrong questions r = 5\n",
    "def test(p,q,n,r):\n",
    "    cmb = comb(20,5)\n",
    "    prb = cmb * (p**r) * (q**(n-r))\n",
    "    return prb\n",
    "\n",
    "prob = test(3/4,1/4,20,5)\n",
    "print(\"Probability of exactly 5 wrong out of 20 questions is \", prob)"
   ]
  },
  {
   "cell_type": "markdown",
   "metadata": {},
   "source": [
    "<span style=\"color:blue; font-size:1.0em;\">Q 2. A die marked A to E is rolled 50 times. Find the probability of getting a “D” exactly 5 times.</span>"
   ]
  },
  {
   "cell_type": "code",
   "execution_count": 24,
   "metadata": {},
   "outputs": [
    {
     "name": "stdout",
     "output_type": "stream",
     "text": [
      "Probability of getting 'D' exactly 5 times is  0.029531204310524296\n"
     ]
    }
   ],
   "source": [
    "#Binomial distribution\n",
    "    #The probability of getting D in 1 roll - p = 1/5\n",
    "    #The probability of getting other values in 1 roll - q = 1 - p = 4/5\n",
    "    #Total rolls - n = 50\n",
    "    #rolls exactly with D - r = 5\n",
    "def Dprob(p,q,n,r):\n",
    "    cmb = comb(50,5)\n",
    "    prb = cmb * (p**r) * (q**(n-r))\n",
    "    return prb\n",
    "\n",
    "prob = Dprob(1/5,4/5,50,5)\n",
    "print(\"Probability of getting 'D' exactly 5 times is \", prob)"
   ]
  },
  {
   "cell_type": "markdown",
   "metadata": {},
   "source": [
    "<span style=\"color:blue; font-size:1.0em;\">Q 3. Two balls are drawn at random in succession without replacement from an urn containing 4 red balls and 6 black balls.\n",
    "Find the probabilities of all the possible outcomes.</span>\n"
   ]
  },
  {
   "cell_type": "code",
   "execution_count": 25,
   "metadata": {},
   "outputs": [
    {
     "name": "stdout",
     "output_type": "stream",
     "text": [
      "Probability of getting 2 red balls is  0.13333333333333336\n",
      "Probability of getting 2 black balls is  0.3333333333333333\n",
      "Probability of getting first red and second black ball is  0.2666666666666667\n",
      "Probability of getting first black and second red ball is  0.26666666666666666\n"
     ]
    }
   ],
   "source": [
    "# Total balls = 10\n",
    "# red balls = 4, black balls = 6\n",
    "# probability of getting 2 red balls = 4/10 * 3/9 = 2/15\n",
    "# probability of getting 2 black balls = 6/10 * 5/9 = 1/3\n",
    "# probability of getting first red and second black ball = 4/10 * 6/9 = 4/15\n",
    "# probability of getting first black and second red ball = 6/10 * 4/9 = 4/15\n",
    "print(\"Probability of getting 2 red balls is \", (4/10 * 3/9))\n",
    "print(\"Probability of getting 2 black balls is \", (6/10 * 5/9))\n",
    "print(\"Probability of getting first red and second black ball is \", (4/10 * 6/9))\n",
    "print(\"Probability of getting first black and second red ball is \", (6/10 * 4/9))"
   ]
  },
  {
   "cell_type": "code",
   "execution_count": null,
   "metadata": {},
   "outputs": [],
   "source": []
  }
 ],
 "metadata": {
  "kernelspec": {
   "display_name": "Python 3",
   "language": "python",
   "name": "python3"
  },
  "language_info": {
   "codemirror_mode": {
    "name": "ipython",
    "version": 3
   },
   "file_extension": ".py",
   "mimetype": "text/x-python",
   "name": "python",
   "nbconvert_exporter": "python",
   "pygments_lexer": "ipython3",
   "version": "3.7.1"
  }
 },
 "nbformat": 4,
 "nbformat_minor": 2
}
